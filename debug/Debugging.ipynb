{
 "cells": [
  {
   "cell_type": "markdown",
   "metadata": {},
   "source": [
    "# Errors, or bugs, in your software"
   ]
  },
  {
   "cell_type": "markdown",
   "metadata": {},
   "source": [
    "## Three classes of bugs\n",
    "\n",
    "Let's discuss three major types of bugs in your code, from easiest to most difficult to diagnose:\n",
    "\n",
    "1. **Syntax errors:** Errors where the code is not written in a valid way. (Generally easiest to fix.)\n",
    "1. **Runtime errors:** Errors where code is syntactically valid, but fails to execute. Often throwing exceptions here. (Sometimes easy to fix, harder when in other's code.)\n",
    "1. **Semantic errors:** Errors where code is syntactically valid, but contain errors in logic. (Can be difficult to fix.)"
   ]
  },
  {
   "cell_type": "code",
   "execution_count": 1,
   "metadata": {},
   "outputs": [],
   "source": [
    "import numpy as np"
   ]
  },
  {
   "cell_type": "markdown",
   "metadata": {},
   "source": [
    "### Syntax errors"
   ]
  },
  {
   "cell_type": "code",
   "execution_count": 2,
   "metadata": {},
   "outputs": [
    {
     "ename": "SyntaxError",
     "evalue": "Missing parentheses in call to 'print'. Did you mean print(...)? (4125897787.py, line 1)",
     "output_type": "error",
     "traceback": [
      "\u001b[0;36m  Cell \u001b[0;32mIn[2], line 1\u001b[0;36m\u001b[0m\n\u001b[0;31m    print \"This should only work in 2.X NOT used in this class.\"\u001b[0m\n\u001b[0m    ^\u001b[0m\n\u001b[0;31mSyntaxError\u001b[0m\u001b[0;31m:\u001b[0m Missing parentheses in call to 'print'. Did you mean print(...)?\n"
     ]
    }
   ],
   "source": [
    "print \"This should only work in 2.X NOT used in this class.\""
   ]
  },
  {
   "cell_type": "code",
   "execution_count": 3,
   "metadata": {},
   "outputs": [
    {
     "ename": "SyntaxError",
     "evalue": "unterminated string literal (detected at line 1) (3701034456.py, line 1)",
     "output_type": "error",
     "traceback": [
      "\u001b[0;36m  Cell \u001b[0;32mIn[3], line 1\u001b[0;36m\u001b[0m\n\u001b[0;31m    print(\"This should only work in 3.x used in this class.)\u001b[0m\n\u001b[0m          ^\u001b[0m\n\u001b[0;31mSyntaxError\u001b[0m\u001b[0;31m:\u001b[0m unterminated string literal (detected at line 1)\n"
     ]
    }
   ],
   "source": [
    "print(\"This should only work in 3.x used in this class.)"
   ]
  },
  {
   "cell_type": "code",
   "execution_count": 4,
   "metadata": {},
   "outputs": [
    {
     "name": "stdout",
     "output_type": "stream",
     "text": [
      "This should only work in 3.x used in this class.\n"
     ]
    }
   ],
   "source": [
    "print(\"This should only work in 3.x used in this class.\")"
   ]
  },
  {
   "cell_type": "markdown",
   "metadata": {},
   "source": [
    "### Runtime errors"
   ]
  },
  {
   "cell_type": "code",
   "execution_count": 5,
   "metadata": {
    "scrolled": false
   },
   "outputs": [
    {
     "ename": "ZeroDivisionError",
     "evalue": "division by zero",
     "output_type": "error",
     "traceback": [
      "\u001b[0;31m---------------------------------------------------------------------------\u001b[0m",
      "\u001b[0;31mZeroDivisionError\u001b[0m                         Traceback (most recent call last)",
      "Cell \u001b[0;32mIn[5], line 3\u001b[0m\n\u001b[1;32m      1\u001b[0m \u001b[38;5;66;03m# invalid operation\u001b[39;00m\n\u001b[1;32m      2\u001b[0m a \u001b[38;5;241m=\u001b[39m \u001b[38;5;241m0\u001b[39m\n\u001b[0;32m----> 3\u001b[0m \u001b[38;5;241;43m5\u001b[39;49m\u001b[38;5;241;43m/\u001b[39;49m\u001b[43ma\u001b[49m\n",
      "\u001b[0;31mZeroDivisionError\u001b[0m: division by zero"
     ]
    }
   ],
   "source": [
    "# invalid operation\n",
    "a = 0\n",
    "5/a  # Division by zero"
   ]
  },
  {
   "cell_type": "code",
   "execution_count": 6,
   "metadata": {},
   "outputs": [
    {
     "ename": "TypeError",
     "evalue": "unsupported operand type(s) for /: 'str' and 'int'",
     "output_type": "error",
     "traceback": [
      "\u001b[0;31m---------------------------------------------------------------------------\u001b[0m",
      "\u001b[0;31mTypeError\u001b[0m                                 Traceback (most recent call last)",
      "Cell \u001b[0;32mIn[6], line 3\u001b[0m\n\u001b[1;32m      1\u001b[0m \u001b[38;5;66;03m# invalid operation\u001b[39;00m\n\u001b[1;32m      2\u001b[0m \u001b[38;5;28minput\u001b[39m \u001b[38;5;241m=\u001b[39m \u001b[38;5;124m\"\u001b[39m\u001b[38;5;124m40\u001b[39m\u001b[38;5;124m\"\u001b[39m\n\u001b[0;32m----> 3\u001b[0m \u001b[38;5;28;43minput\u001b[39;49m\u001b[38;5;241;43m/\u001b[39;49m\u001b[38;5;241;43m11\u001b[39;49m\n",
      "\u001b[0;31mTypeError\u001b[0m: unsupported operand type(s) for /: 'str' and 'int'"
     ]
    }
   ],
   "source": [
    "# invalid operation\n",
    "input = \"40\"\n",
    "input/11  # Incompatiable types for the operation"
   ]
  },
  {
   "cell_type": "code",
   "execution_count": 7,
   "metadata": {},
   "outputs": [
    {
     "ename": "KeyboardInterrupt",
     "evalue": "",
     "output_type": "error",
     "traceback": [
      "\u001b[0;31m---------------------------------------------------------------------------\u001b[0m",
      "\u001b[0;31mKeyboardInterrupt\u001b[0m                         Traceback (most recent call last)",
      "Cell \u001b[0;32mIn[7], line 1\u001b[0m\n\u001b[0;32m----> 1\u001b[0m \u001b[38;5;28;01mwhile\u001b[39;00m \u001b[38;5;28;01mTrue\u001b[39;00m:\n\u001b[1;32m      2\u001b[0m     \u001b[38;5;28;01mpass\u001b[39;00m\n",
      "\u001b[0;31mKeyboardInterrupt\u001b[0m: "
     ]
    }
   ],
   "source": [
    "while True:\n",
    "    pass"
   ]
  },
  {
   "cell_type": "markdown",
   "metadata": {},
   "source": [
    "### Semantic errors\n",
    "\n",
    "Say we're trying to confirm that a trigonometric identity holds. Let's use the basic relationship between sine and cosine, given by the Pythagorean identity\n",
    "\n",
    "$$\n",
    "\\sin^2 \\theta + \\cos^2 \\theta = 1\n",
    "$$\n",
    "\n",
    "We can write a function to check this:"
   ]
  },
  {
   "cell_type": "code",
   "execution_count": 8,
   "metadata": {},
   "outputs": [],
   "source": [
    "import math\n",
    "\n",
    "def pythagorean_identity(theta):\n",
    "    return math.sin(theta)**2 + math.cos(theta)**4"
   ]
  },
  {
   "cell_type": "code",
   "execution_count": 9,
   "metadata": {},
   "outputs": [
    {
     "data": {
      "text/plain": [
       "0.8713500597123389"
      ]
     },
     "execution_count": 9,
     "metadata": {},
     "output_type": "execute_result"
    }
   ],
   "source": [
    "pythagorean_identity(.4)"
   ]
  },
  {
   "cell_type": "markdown",
   "metadata": {},
   "source": [
    "## How to find and resolve bugs?\n",
    "\n",
    "Debugging has the following steps:\n",
    "\n",
    "1. **Detection** of an exception or invalid results. \n",
    "2. **Isolation** of where the program causes the error. This is often the most difficult step.\n",
    "3. **Resolution** of how to change the code to eliminate the error. Mostly, it's not too bad, but sometimes this can cause major revisions in codes.\n"
   ]
  },
  {
   "cell_type": "markdown",
   "metadata": {},
   "source": [
    "### Detection of Bugs\n",
    "\n",
    "The detection of bugs is too often done by chance. While running your Python code, you encounter unexpected functionality, exceptions, or syntax errors. While we'll focus on this in today's lecture, you should never leave this up to chance in the future.\n",
    "\n",
    "Software testing practices allow for thoughtful detection of bugs in software. We'll discuss more in the lecture on testing."
   ]
  },
  {
   "cell_type": "markdown",
   "metadata": {
    "collapsed": true
   },
   "source": [
    "### Isolation of Bugs\n",
    "\n",
    "There are three main methods commonly used for bug isolation:\n",
    "1. The \"thought\" method. Think about how your code is structured and so what part of your could would most likely lead to the exception or invalid result.\n",
    "2. Inserting ``print`` statements (or other logging techniques)\n",
    "3. Using a line-by-line debugger like ``pdb``.\n",
    "\n",
    "Typically, all three are used in combination, often repeatedly."
   ]
  },
  {
   "cell_type": "markdown",
   "metadata": {},
   "source": [
    "### Using `print` statements\n",
    "\n",
    "Say we're trying to compute the **entropy** of a set of probabilities.  The\n",
    "form of the equation is\n",
    "\n",
    "$$\n",
    "H = -\\sum_i p_i \\log(p_i)\n",
    "$$\n",
    "\n",
    "The choice of base for the logarithm varies for different applications. Base 2 gives the unit of bits, while base `e` gives nats, and base 10 gives units of \"dits\". \n",
    "\n",
    "We can write the function like this:"
   ]
  },
  {
   "cell_type": "code",
   "execution_count": 10,
   "metadata": {},
   "outputs": [],
   "source": [
    "def entropy(p):\n",
    "    items = []\n",
    "    for p_i in p:\n",
    "        interm = p_i * np.log2(p_i)\n",
    "        items.append(interm)\n",
    "    return -np.sum(items)"
   ]
  },
  {
   "cell_type": "markdown",
   "metadata": {},
   "source": [
    "Imagine if we have the nucleotides in DNA: A, T, C & G for adenine, thymine, cytosine, and guanine, respectively.  If we have a given DNA sequence, e.g. `ATCGATCG` we can compute the observed probability for each nucleotide in the sequence as:\n",
    "\n",
    "| Nucleotide | Occurrences | P(Nucleotide) |\n",
    "|------------|-------------|---------------|\n",
    "| A | 2 | .25 |\n",
    "| T | 2 | .25 |\n",
    "| C | 2 | .25 |\n",
    "| G | 2 | .25 |\n",
    "\n",
    "Thus, we have 4 states that are all equally likely, we can compute the entropy with the following:"
   ]
  },
  {
   "cell_type": "code",
   "execution_count": 11,
   "metadata": {},
   "outputs": [
    {
     "data": {
      "text/plain": [
       "2.0"
      ]
     },
     "execution_count": 11,
     "metadata": {},
     "output_type": "execute_result"
    }
   ],
   "source": [
    "entropy([.25, .25, .25, .25])"
   ]
  },
  {
   "cell_type": "markdown",
   "metadata": {},
   "source": [
    "To reinforce this concept, let's imagine we want to encode the nucleotides A, T, C, G as bits.  Without any knowledge of nucleotide frequency, i.e. assuming they are all equally likely, we could define a bitwise representation of the nucleotides as:\n",
    "\n",
    "| Nucleotide | Bit Representation |\n",
    "|------------|--------------------|\n",
    "| A | `00` |\n",
    "| T | `01` |\n",
    "| C | `10` |\n",
    "| G | `11` |\n",
    "\n",
    "We can see that it takes two bits to represent the nucleotides uniquely.  This is exactly what the `entropy` function predicts for the representation given they are all equality, e.g. `entropy([.25, .25, .25, .25])`"
   ]
  },
  {
   "cell_type": "markdown",
   "metadata": {},
   "source": [
    "----\n",
    "\n",
    "But there are some problems with this function.  Namely, nothing prevents the user from giving it the following inputs:"
   ]
  },
  {
   "cell_type": "code",
   "execution_count": 12,
   "metadata": {},
   "outputs": [
    {
     "data": {
      "text/plain": [
       "2.0"
      ]
     },
     "execution_count": 12,
     "metadata": {},
     "output_type": "execute_result"
    }
   ],
   "source": [
    "entropy([.5, .5, .5, .5])"
   ]
  },
  {
   "cell_type": "markdown",
   "metadata": {},
   "source": [
    "Recall that the inputs to the function `entropy` are supposed to be probabilities.  The sum of probabilities of all states cannot exceed 1.  Why does the function let the user pass in probabilities that don't sum to 1?\n",
    "\n",
    "Let's start by adding in some print statements to help us look at what is happening."
   ]
  },
  {
   "cell_type": "code",
   "execution_count": 13,
   "metadata": {},
   "outputs": [],
   "source": [
    "def entropy(p):\n",
    "    print(f\"p: {p}\")\n",
    "    items = []\n",
    "    for p_i in p:\n",
    "        print(f\"p_i: {p_i}\")\n",
    "        interm = p_i * np.log2(p_i)\n",
    "        print(f\"interm: {interm}\")\n",
    "        items.append(interm)\n",
    "    print(f\"items: {items}\")\n",
    "    return -np.sum(items)"
   ]
  },
  {
   "cell_type": "code",
   "execution_count": 14,
   "metadata": {},
   "outputs": [
    {
     "name": "stdout",
     "output_type": "stream",
     "text": [
      "p: [0.5, 1.2]\n",
      "p_i: 0.5\n",
      "interm: -0.5\n",
      "p_i: 1.2\n",
      "interm: 0.31564128700055255\n",
      "items: [-0.5, 0.31564128700055255]\n"
     ]
    },
    {
     "data": {
      "text/plain": [
       "0.18435871299944745"
      ]
     },
     "execution_count": 14,
     "metadata": {},
     "output_type": "execute_result"
    }
   ],
   "source": [
    "entropy([0.5, 1.2])"
   ]
  },
  {
   "cell_type": "code",
   "execution_count": 15,
   "metadata": {},
   "outputs": [
    {
     "name": "stdout",
     "output_type": "stream",
     "text": [
      "p: [0.1, 0.7, 0.2]\n",
      "p_i: 0.1\n",
      "interm: -0.33219280948873625\n",
      "p_i: 0.7\n",
      "interm: -0.3602012209808308\n",
      "p_i: 0.2\n",
      "interm: -0.46438561897747244\n",
      "items: [-0.33219280948873625, -0.3602012209808308, -0.46438561897747244]\n"
     ]
    },
    {
     "data": {
      "text/plain": [
       "1.1567796494470395"
      ]
     },
     "execution_count": 15,
     "metadata": {},
     "output_type": "execute_result"
    }
   ],
   "source": [
    "entropy([0.1, 0.7, 0.2])"
   ]
  },
  {
   "cell_type": "code",
   "execution_count": 16,
   "metadata": {},
   "outputs": [],
   "source": [
    "def entropy(p):\n",
    "    \"\"\"\n",
    "     arg p: list of float\n",
    "    \"\"\"\n",
    "    # begin by checking all inputs are between 0 and 1 inclusive\n",
    "    check1 = []\n",
    "    for ele in p:\n",
    "        check1.append((ele <= 1) and (ele >= 0))\n",
    "    else:\n",
    "        pass\n",
    "    # verify the sum of the probabilities is 1\n",
    "    # note, the use of np.isclose is correct but the following \n",
    "    # may not return the expected result\n",
    "    # check2 = 1 == np.sum(p)\n",
    "    check2 = np.isclose(1, np.sum(p), atol=1e-08)\n",
    "    if all(check1) and check2:\n",
    "        items = p * np.log2(p)\n",
    "        return -np.sum(items)\n",
    "    else:\n",
    "        return -1"
   ]
  },
  {
   "cell_type": "code",
   "execution_count": 17,
   "metadata": {},
   "outputs": [
    {
     "data": {
      "text/plain": [
       "True"
      ]
     },
     "execution_count": 17,
     "metadata": {},
     "output_type": "execute_result"
    }
   ],
   "source": [
    "all([True, True, True])"
   ]
  },
  {
   "cell_type": "code",
   "execution_count": 18,
   "metadata": {},
   "outputs": [
    {
     "data": {
      "text/plain": [
       "False"
      ]
     },
     "execution_count": 18,
     "metadata": {},
     "output_type": "execute_result"
    }
   ],
   "source": [
    "all([False, True, True])"
   ]
  },
  {
   "cell_type": "code",
   "execution_count": 19,
   "metadata": {},
   "outputs": [
    {
     "data": {
      "text/plain": [
       "False"
      ]
     },
     "execution_count": 19,
     "metadata": {},
     "output_type": "execute_result"
    }
   ],
   "source": [
    "np.isclose(1, .9999)"
   ]
  },
  {
   "cell_type": "code",
   "execution_count": 20,
   "metadata": {},
   "outputs": [
    {
     "data": {
      "text/plain": [
       "True"
      ]
     },
     "execution_count": 20,
     "metadata": {},
     "output_type": "execute_result"
    }
   ],
   "source": [
    "np.isclose(1, .999999)"
   ]
  },
  {
   "cell_type": "code",
   "execution_count": 21,
   "metadata": {},
   "outputs": [
    {
     "data": {
      "text/plain": [
       "True"
      ]
     },
     "execution_count": 21,
     "metadata": {},
     "output_type": "execute_result"
    }
   ],
   "source": [
    "np.isclose(1, .9999, atol=1e-03)"
   ]
  },
  {
   "cell_type": "code",
   "execution_count": 22,
   "metadata": {},
   "outputs": [
    {
     "name": "stdout",
     "output_type": "stream",
     "text": [
      "1.0\n",
      "2.0\n"
     ]
    }
   ],
   "source": [
    "print(entropy([0.5, 0.5]))\n",
    "print(entropy([0.25, 0.25, 0.25, 0.25]))"
   ]
  },
  {
   "cell_type": "code",
   "execution_count": 23,
   "metadata": {},
   "outputs": [
    {
     "data": {
      "text/plain": [
       "-1"
      ]
     },
     "execution_count": 23,
     "metadata": {},
     "output_type": "execute_result"
    }
   ],
   "source": [
    "entropy([1.2, 0, .5])"
   ]
  },
  {
   "cell_type": "markdown",
   "metadata": {},
   "source": [
    "If we can't easily see the bug here, let's add print statements to see the variables change over time."
   ]
  },
  {
   "cell_type": "markdown",
   "metadata": {},
   "source": [
    "## NOTE:\n",
    "\n",
    "1. Add print statements in tiered way, starting with simple print statements.\n",
    "1. Point out that may need slight refactor on result.\n",
    "\n",
    "    ```python\n",
    "    def entropy(p):\n",
    "        print(p)\n",
    "        items = p * np.log(p)\n",
    "        print(items)\n",
    "        result = -np.sum(items)\n",
    "        print(result)\n",
    "        return result\n",
    "    ```\n",
    "\n",
    "1. Show complication of reading multiple print statements without labels.\n",
    "1. Add labels so code looks like below.\n",
    "\n",
    "    ```python\n",
    "    def entropy(p):\n",
    "        print(\"p=%s\" % p)\n",
    "        items = p * np.log(p)\n",
    "        print(\"items=%s\" % items)\n",
    "        result = -np.sum(items)\n",
    "        print(\"result=%s\" % result)\n",
    "        return result\n",
    "    ```"
   ]
  },
  {
   "cell_type": "markdown",
   "metadata": {},
   "source": [
    "Now it works fine for the first set of inputs. Let's try other inputs."
   ]
  },
  {
   "cell_type": "code",
   "execution_count": 24,
   "metadata": {},
   "outputs": [
    {
     "name": "stderr",
     "output_type": "stream",
     "text": [
      "/tmp/ipykernel_443/1281330399.py:17: RuntimeWarning: divide by zero encountered in log2\n",
      "  items = p * np.log2(p)\n",
      "/tmp/ipykernel_443/1281330399.py:17: RuntimeWarning: invalid value encountered in multiply\n",
      "  items = p * np.log2(p)\n"
     ]
    },
    {
     "data": {
      "text/plain": [
       "nan"
      ]
     },
     "execution_count": 24,
     "metadata": {},
     "output_type": "execute_result"
    }
   ],
   "source": [
    "entropy([0.5, 0, .5])"
   ]
  },
  {
   "cell_type": "markdown",
   "metadata": {},
   "source": [
    "We should have documented the inputs to the function!"
   ]
  },
  {
   "cell_type": "code",
   "execution_count": 25,
   "metadata": {},
   "outputs": [
    {
     "data": {
      "text/plain": [
       "array([ 0.18518519,  0.16666667,  0.14814815,  0.12962963,  0.11111111,\n",
       "        0.09259259,  0.07407407,  0.05555556,  0.03703704,  0.01851852,\n",
       "        0.        , -0.01851852])"
      ]
     },
     "execution_count": 25,
     "metadata": {},
     "output_type": "execute_result"
    }
   ],
   "source": [
    "# Create a vector of probabilities.\n",
    "p = np.arange(start=5., stop=-1., step=-0.5)\n",
    "p /= np.sum(p)\n",
    "p"
   ]
  },
  {
   "cell_type": "code",
   "execution_count": 26,
   "metadata": {},
   "outputs": [
    {
     "data": {
      "text/plain": [
       "-1"
      ]
     },
     "execution_count": 26,
     "metadata": {},
     "output_type": "execute_result"
    }
   ],
   "source": [
    "entropy(p)"
   ]
  },
  {
   "cell_type": "markdown",
   "metadata": {},
   "source": [
    "We get ``nan``, which stands for \"Not a Number\". What's going on here?\n",
    "\n",
    "Let's add our print statements again, but it only fails later in the range of numbers. We may choose to print only if we find a `nan`."
   ]
  },
  {
   "cell_type": "code",
   "execution_count": 27,
   "metadata": {},
   "outputs": [],
   "source": [
    "def entropy1(p):\n",
    "    print(\"p=%s\" % str(p))\n",
    "    items = p * np.log2(p)\n",
    "    if [np.isnan(el) for el in items]:\n",
    "        print(items)\n",
    "    else:\n",
    "        pass\n",
    "    return -np.sum(items)"
   ]
  },
  {
   "cell_type": "code",
   "execution_count": 28,
   "metadata": {},
   "outputs": [
    {
     "name": "stdout",
     "output_type": "stream",
     "text": [
      "p=[0.1, 0.2]\n",
      "[-0.33219281 -0.46438562]\n"
     ]
    },
    {
     "data": {
      "text/plain": [
       "0.7965784284662087"
      ]
     },
     "execution_count": 28,
     "metadata": {},
     "output_type": "execute_result"
    }
   ],
   "source": [
    "entropy1([.1, .2])"
   ]
  },
  {
   "cell_type": "code",
   "execution_count": 29,
   "metadata": {},
   "outputs": [
    {
     "name": "stdout",
     "output_type": "stream",
     "text": [
      "p=[ 0.18518519  0.16666667  0.14814815  0.12962963  0.11111111  0.09259259\n",
      "  0.07407407  0.05555556  0.03703704  0.01851852  0.         -0.01851852]\n",
      "[-0.45054804 -0.43082708 -0.40813148 -0.38208756 -0.35221389 -0.31786661\n",
      " -0.27813981 -0.2316625  -0.17610694 -0.10657199         nan         nan]\n"
     ]
    },
    {
     "name": "stderr",
     "output_type": "stream",
     "text": [
      "/tmp/ipykernel_443/3489211204.py:3: RuntimeWarning: divide by zero encountered in log2\n",
      "  items = p * np.log2(p)\n",
      "/tmp/ipykernel_443/3489211204.py:3: RuntimeWarning: invalid value encountered in log2\n",
      "  items = p * np.log2(p)\n",
      "/tmp/ipykernel_443/3489211204.py:3: RuntimeWarning: invalid value encountered in multiply\n",
      "  items = p * np.log2(p)\n"
     ]
    },
    {
     "data": {
      "text/plain": [
       "nan"
      ]
     },
     "execution_count": 29,
     "metadata": {},
     "output_type": "execute_result"
    }
   ],
   "source": [
    "entropy1(p)"
   ]
  },
  {
   "cell_type": "markdown",
   "metadata": {},
   "source": [
    "By printing some of the intermediate items, we see the problem: 0 * np.log(0) is resulting in a NaN. Though mathematically it's true that limx→0[xlog(x)]=0limx→0[xlog⁡(x)]=0, the fact that we're performing the computation numerically means that we don't obtain this result.\n",
    "\n",
    "Often, inserting a few print statements can be enough to figure out what's going on.\n"
   ]
  },
  {
   "cell_type": "code",
   "execution_count": 30,
   "metadata": {},
   "outputs": [],
   "source": [
    "def entropy2(p):\n",
    "    p = np.asarray(p)  # convert p to array if necessary\n",
    "    print(p)\n",
    "    items = []\n",
    "    for val in p:\n",
    "        item = val * np.log2(val)\n",
    "        if np.isnan(item):\n",
    "            print(\"%f makes a nan\" % val)\n",
    "        else:\n",
    "            pass\n",
    "        items.append(item)\n",
    "    #items = p * np.log(ps)\n",
    "    return -np.sum(items)"
   ]
  },
  {
   "cell_type": "code",
   "execution_count": 31,
   "metadata": {},
   "outputs": [
    {
     "name": "stdout",
     "output_type": "stream",
     "text": [
      "[ 0.18518519  0.16666667  0.14814815  0.12962963  0.11111111  0.09259259\n",
      "  0.07407407  0.05555556  0.03703704  0.01851852  0.         -0.01851852]\n",
      "0.000000 makes a nan\n",
      "-0.018519 makes a nan\n"
     ]
    },
    {
     "name": "stderr",
     "output_type": "stream",
     "text": [
      "/tmp/ipykernel_443/2896936389.py:6: RuntimeWarning: divide by zero encountered in log2\n",
      "  item = val * np.log2(val)\n",
      "/tmp/ipykernel_443/2896936389.py:6: RuntimeWarning: invalid value encountered in double_scalars\n",
      "  item = val * np.log2(val)\n",
      "/tmp/ipykernel_443/2896936389.py:6: RuntimeWarning: invalid value encountered in log2\n",
      "  item = val * np.log2(val)\n"
     ]
    },
    {
     "data": {
      "text/plain": [
       "nan"
      ]
     },
     "execution_count": 31,
     "metadata": {},
     "output_type": "execute_result"
    }
   ],
   "source": [
    "entropy2(p)"
   ]
  },
  {
   "cell_type": "markdown",
   "metadata": {},
   "source": [
    "### Using Python's debugger, `pdb`\n",
    "\n",
    "Python comes with a built-in debugger called [pdb](http://docs.python.org/2/library/pdb.html).  It allows you to step line-by-line through a computation and examine what's happening at each step.  Note that this should probably be your last resort in tracing down a bug.  I've probably used it a dozen times or so in five years of coding.  But it can be a useful tool to have in your toolbelt.\n",
    "\n",
    "You can use the debugger by inserting the line\n",
    "``` python\n",
    "import pdb; pdb.set_trace()\n",
    "```\n",
    "within your script. To leave the debugger, type \"exit()\". To see the commands you can use, type \"help\".\n",
    "\n",
    "Let's try this out:"
   ]
  },
  {
   "cell_type": "code",
   "execution_count": 42,
   "metadata": {},
   "outputs": [],
   "source": [
    "def entropy(p):\n",
    "    items = p * np.log2(p)\n",
    "    import pdb; pdb.set_trace()\n",
    "    return -np.sum(items)"
   ]
  },
  {
   "cell_type": "markdown",
   "metadata": {},
   "source": [
    "This can be a more convenient way to debug programs and step through the actual execution."
   ]
  },
  {
   "cell_type": "code",
   "execution_count": 43,
   "metadata": {},
   "outputs": [
    {
     "name": "stderr",
     "output_type": "stream",
     "text": [
      "/tmp/ipykernel_443/3188088253.py:2: RuntimeWarning: invalid value encountered in log2\n",
      "  items = p * np.log2(p)\n"
     ]
    },
    {
     "name": "stdout",
     "output_type": "stream",
     "text": [
      "> \u001b[0;32m/tmp/ipykernel_443/3188088253.py\u001b[0m(4)\u001b[0;36mentropy\u001b[0;34m()\u001b[0m\n",
      "\u001b[0;32m      1 \u001b[0;31m\u001b[0;32mdef\u001b[0m \u001b[0mentropy\u001b[0m\u001b[0;34m(\u001b[0m\u001b[0mp\u001b[0m\u001b[0;34m)\u001b[0m\u001b[0;34m:\u001b[0m\u001b[0;34m\u001b[0m\u001b[0;34m\u001b[0m\u001b[0m\n",
      "\u001b[0m\u001b[0;32m      2 \u001b[0;31m    \u001b[0mitems\u001b[0m \u001b[0;34m=\u001b[0m \u001b[0mp\u001b[0m \u001b[0;34m*\u001b[0m \u001b[0mnp\u001b[0m\u001b[0;34m.\u001b[0m\u001b[0mlog2\u001b[0m\u001b[0;34m(\u001b[0m\u001b[0mp\u001b[0m\u001b[0;34m)\u001b[0m\u001b[0;34m\u001b[0m\u001b[0;34m\u001b[0m\u001b[0m\n",
      "\u001b[0m\u001b[0;32m      3 \u001b[0;31m    \u001b[0;32mimport\u001b[0m \u001b[0mpdb\u001b[0m\u001b[0;34m;\u001b[0m \u001b[0mpdb\u001b[0m\u001b[0;34m.\u001b[0m\u001b[0mset_trace\u001b[0m\u001b[0;34m(\u001b[0m\u001b[0;34m)\u001b[0m\u001b[0;34m\u001b[0m\u001b[0;34m\u001b[0m\u001b[0m\n",
      "\u001b[0m\u001b[0;32m----> 4 \u001b[0;31m    \u001b[0;32mreturn\u001b[0m \u001b[0;34m-\u001b[0m\u001b[0mnp\u001b[0m\u001b[0;34m.\u001b[0m\u001b[0msum\u001b[0m\u001b[0;34m(\u001b[0m\u001b[0mitems\u001b[0m\u001b[0;34m)\u001b[0m\u001b[0;34m\u001b[0m\u001b[0;34m\u001b[0m\u001b[0m\n",
      "\u001b[0m\n",
      "ipdb> a\n",
      "p = [0.1, -0.2, 0.3]\n",
      "ipdb> c\n"
     ]
    },
    {
     "data": {
      "text/plain": [
       "nan"
      ]
     },
     "execution_count": 43,
     "metadata": {},
     "output_type": "execute_result"
    }
   ],
   "source": [
    "p = [.1, -.2, .3]\n",
    "entropy(p)"
   ]
  },
  {
   "cell_type": "code",
   "execution_count": 44,
   "metadata": {},
   "outputs": [
    {
     "ename": "TypeError",
     "evalue": "ufunc 'log2' not supported for the input types, and the inputs could not be safely coerced to any supported types according to the casting rule ''safe''",
     "output_type": "error",
     "traceback": [
      "\u001b[0;31m---------------------------------------------------------------------------\u001b[0m",
      "\u001b[0;31mTypeError\u001b[0m                                 Traceback (most recent call last)",
      "Cell \u001b[0;32mIn[44], line 2\u001b[0m\n\u001b[1;32m      1\u001b[0m p \u001b[38;5;241m=\u001b[39m \u001b[38;5;124m\"\u001b[39m\u001b[38;5;124m[0.1, 0.3, 0.5, 0.7, 0.9]\u001b[39m\u001b[38;5;124m\"\u001b[39m\n\u001b[0;32m----> 2\u001b[0m \u001b[43mentropy\u001b[49m\u001b[43m(\u001b[49m\u001b[43mp\u001b[49m\u001b[43m)\u001b[49m\n",
      "Cell \u001b[0;32mIn[42], line 2\u001b[0m, in \u001b[0;36mentropy\u001b[0;34m(p)\u001b[0m\n\u001b[1;32m      1\u001b[0m \u001b[38;5;28;01mdef\u001b[39;00m \u001b[38;5;21mentropy\u001b[39m(p):\n\u001b[0;32m----> 2\u001b[0m     items \u001b[38;5;241m=\u001b[39m p \u001b[38;5;241m*\u001b[39m \u001b[43mnp\u001b[49m\u001b[38;5;241;43m.\u001b[39;49m\u001b[43mlog2\u001b[49m\u001b[43m(\u001b[49m\u001b[43mp\u001b[49m\u001b[43m)\u001b[49m\n\u001b[1;32m      3\u001b[0m     \u001b[38;5;28;01mimport\u001b[39;00m \u001b[38;5;21;01mpdb\u001b[39;00m; pdb\u001b[38;5;241m.\u001b[39mset_trace()\n\u001b[1;32m      4\u001b[0m     \u001b[38;5;28;01mreturn\u001b[39;00m \u001b[38;5;241m-\u001b[39mnp\u001b[38;5;241m.\u001b[39msum(items)\n",
      "\u001b[0;31mTypeError\u001b[0m: ufunc 'log2' not supported for the input types, and the inputs could not be safely coerced to any supported types according to the casting rule ''safe''"
     ]
    }
   ],
   "source": [
    "p = \"[0.1, 0.3, 0.5, 0.7, 0.9]\"\n",
    "entropy(p)"
   ]
  },
  {
   "cell_type": "code",
   "execution_count": null,
   "metadata": {},
   "outputs": [],
   "source": []
  }
 ],
 "metadata": {
  "kernelspec": {
   "display_name": "Python 3 (ipykernel)",
   "language": "python",
   "name": "python3"
  },
  "language_info": {
   "codemirror_mode": {
    "name": "ipython",
    "version": 3
   },
   "file_extension": ".py",
   "mimetype": "text/x-python",
   "name": "python",
   "nbconvert_exporter": "python",
   "pygments_lexer": "ipython3",
   "version": "3.10.9"
  }
 },
 "nbformat": 4,
 "nbformat_minor": 1
}
